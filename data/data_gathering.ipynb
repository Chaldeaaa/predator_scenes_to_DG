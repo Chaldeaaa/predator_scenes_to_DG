{
 "cells": [
  {
   "cell_type": "markdown",
   "id": "19c8eb68",
   "metadata": {
    "tags": []
   },
   "source": [
    "# Data gathering from Allen"
   ]
  },
  {
   "cell_type": "markdown",
   "id": "317ed4cc",
   "metadata": {},
   "source": [
    "### Installing AllenSDK into your local environment. "
   ]
  },
  {
   "cell_type": "code",
   "execution_count": null,
   "id": "bc10fa6a",
   "metadata": {},
   "outputs": [],
   "source": [
    "pip install allensdk"
   ]
  },
  {
   "cell_type": "markdown",
   "id": "57051134",
   "metadata": {},
   "source": [
    "### Import Packages:"
   ]
  },
  {
   "cell_type": "code",
   "execution_count": null,
   "id": "a839174f",
   "metadata": {},
   "outputs": [],
   "source": [
    "import os\n",
    "import shutil\n",
    "import allensdk\n",
    "import pprint\n",
    "from pathlib import Path\n",
    "\n",
    "import numpy as np\n",
    "import pandas as pd\n",
    "import scipy.stats as st\n",
    "\n",
    "from sklearn import svm\n",
    "from sklearn.model_selection import KFold\n",
    "from sklearn.metrics import confusion_matrix\n",
    "from allensdk.brain_observatory.ecephys.visualization import plot_mean_waveforms, plot_spike_counts, raster_plot\n",
    "\n",
    "import matplotlib.pyplot as plt\n",
    "%matplotlib inline\n",
    "import seaborn as sns\n",
    "sns.set_context('notebook', font_scale=1.5, rc={'lines.markeredgewidth': 2})"
   ]
  },
  {
   "cell_type": "code",
   "execution_count": null,
   "id": "6e6c62c5",
   "metadata": {},
   "outputs": [],
   "source": [
    "# this code block should only be run if you are working with the neuropixels data\n",
    "from allensdk.brain_observatory.ecephys.ecephys_project_cache import EcephysProjectCache\n",
    "\n",
    "data_directory = '/overflow/NSCI274/projects/ecephysdata/' \n",
    "\n",
    "manifest_path = os.path.join(data_directory, \"manifest.json\")\n",
    "\n",
    "cache = EcephysProjectCache.from_warehouse(manifest=manifest_path)"
   ]
  },
  {
   "cell_type": "code",
   "execution_count": null,
   "id": "2634dbfd-d6a8-4b70-bf80-5314db2f9171",
   "metadata": {},
   "outputs": [],
   "source": [
    "session = cache.get_session_table()"
   ]
  },
  {
   "cell_type": "code",
   "execution_count": null,
   "id": "1440dbe8-65f6-4ee7-b9e2-d81e575766b8",
   "metadata": {},
   "outputs": [],
   "source": [
    "session = session[(['DG' in acronyms for acronyms in session.ecephys_structure_acronyms])]\n",
    "len(session)"
   ]
  },
  {
   "cell_type": "code",
   "execution_count": null,
   "id": "dc6b53cc-6f41-44a7-b13e-3be991c912c9",
   "metadata": {},
   "outputs": [],
   "source": [
    "# store labeling as pandas\n",
    "listP = [0,1,2,5,6,7,10,11,12,13,14,15,16,17,18,19,22,23,25,27,29,33,38,39,44,45,47,49,50,52,53,55,58,102]\n",
    "listNonP = [3,4,8,9,21,24,26,28,32,34,35,36,40,41,42,46,48,51,54,56,57,112] \n",
    "listNonA = [20,30,31,37,43,59,60,61,62,63,64,65,66,67,68,69,70,71,72,73,74,75,76,77,78,79,80,81,82,83,84,85,86,87,88,89,90,91,92,93,94,95,96,97,98,99,100,101,103,104,105,106,107,108,109,110,111,113,114,115,116,117]\n",
    "\n",
    "# print(len(listP),len(listNonP),len(listNonA))\n",
    "listFrames = listP + listNonP + listNonA\n",
    "listLabels = ['predator']*34 + ['non_predator']*22 + ['non_animal'] * 62\n",
    "\n",
    "labeldict = {'frame': listFrames, 'labels': listLabels}\n",
    "labels = pd.DataFrame(labeldict).set_index('frame').sort_values('frame')"
   ]
  },
  {
   "cell_type": "code",
   "execution_count": null,
   "id": "ee788dea-962c-4631-bc6c-4e67abed487e",
   "metadata": {},
   "outputs": [],
   "source": [
    "# get sessions of interest and their index\n",
    "malessid = list(session[session['sex'] == 'M'].index.values)\n",
    "femalessid = list(session[session['sex'] == 'F'].index.values)"
   ]
  },
  {
   "cell_type": "code",
   "execution_count": null,
   "id": "abd8cb0c-d6d7-4977-83c6-bd860b2d6e98",
   "metadata": {
    "tags": []
   },
   "outputs": [],
   "source": [
    "# function for getting spike mean\n",
    "def get_spike_means(sessionID):\n",
    "    ss = cache.get_session_data(sessionID)\n",
    "    table = ss.get_stimulus_table(\"natural_scenes\")\n",
    "    units = ss.units[ss.units[\"ecephys_structure_acronym\"] == 'DG']\n",
    "    uid = units.index.values\n",
    "    pid = ss.stimulus_presentations.loc[(ss.stimulus_presentations['stimulus_name'] == 'natural_scenes')].index.values\n",
    "    \n",
    "    if len(pid) < 1:\n",
    "        result = None\n",
    "        \n",
    "    stat = ss.conditionwise_spike_statistics(\n",
    "    stimulus_presentation_ids = pid,\n",
    "    unit_ids = uid)\n",
    "    stat = stat[['spike_mean']]\n",
    "        \n",
    "    fullchart = pd.merge(stat, ss.stimulus_conditions['frame'], \n",
    "                     left_on=\"stimulus_condition_id\",\n",
    "                     right_index=True)\n",
    "    result = fullchart.groupby(['frame']).mean()\n",
    "    return result"
   ]
  },
  {
   "cell_type": "markdown",
   "id": "5976ac62-a3b2-4a64-b856-749326f67fd1",
   "metadata": {
    "tags": []
   },
   "source": [
    "## Get Male Overall Data"
   ]
  },
  {
   "cell_type": "markdown",
   "id": "0fad310e-35bc-46e3-ade2-146edb3d2111",
   "metadata": {},
   "source": [
    "The iteration could took up to an hour w/out computational GPU. "
   ]
  },
  {
   "cell_type": "code",
   "execution_count": null,
   "id": "fc815ff6-8e1a-4aa0-9032-016046e6f524",
   "metadata": {},
   "outputs": [],
   "source": [
    "# iterate all session by concating a list of MALE session tables\n",
    "dfs = []\n",
    "for i in malessid: \n",
    "    try:\n",
    "        df = get_spike_means(i).drop(index=-1) # remove blank image\n",
    "    except IndexError:\n",
    "        continue\n",
    "    dfs.append(df)\n",
    "\n",
    "concatedM = pd.concat(dfs).groupby('frame', as_index=False).mean() # combine and get mean"
   ]
  },
  {
   "cell_type": "code",
   "execution_count": null,
   "id": "82ea501f-9095-4bad-85be-90a7cb8382f3",
   "metadata": {},
   "outputs": [],
   "source": [
    "concatedM.index.name = 'frame'\n",
    "frequencyM = concatedM.mul(4).rename(columns={'spike_mean': 'firing_rate'})"
   ]
  },
  {
   "cell_type": "markdown",
   "id": "f0775c57-2e36-4866-a284-d60c0ffb3bbc",
   "metadata": {
    "tags": []
   },
   "source": [
    "## Get Female Overall Data"
   ]
  },
  {
   "cell_type": "code",
   "execution_count": null,
   "id": "e4421d32-939e-45ef-a3c1-ad99c7e154a6",
   "metadata": {},
   "outputs": [],
   "source": [
    "# iterate all session by concating a list of FEMALE session tables\n",
    "dfs = []\n",
    "for i in femalessid: \n",
    "    try:\n",
    "        df = get_spike_means(i).drop(index=-1) # remove blank image\n",
    "    except IndexError:\n",
    "        continue\n",
    "    dfs.append(df)\n",
    "\n",
    "concatedF = pd.concat(dfs).groupby('frame', as_index=False).mean() # combine and get mean"
   ]
  },
  {
   "cell_type": "code",
   "execution_count": null,
   "id": "61df8769-bd16-4ef1-b605-da454bcd63c6",
   "metadata": {},
   "outputs": [],
   "source": [
    "# get frequency\n",
    "concatedF.index.name = 'frame'\n",
    "frequencyF = concatedF.mul(4).rename(columns={'spike_mean': 'firing_rate'})"
   ]
  },
  {
   "cell_type": "markdown",
   "id": "9671371b-17c7-4616-8dc5-3f1b44e78107",
   "metadata": {},
   "source": [
    "## Group data by labels"
   ]
  },
  {
   "cell_type": "code",
   "execution_count": null,
   "id": "5fe754a9-342e-42ff-ae34-8fa3dc6c5230",
   "metadata": {},
   "outputs": [],
   "source": [
    "labeledM = pd.merge(frequencyM, labels['labels'],\n",
    "                  left_on='frame',\n",
    "                  right_index=True)\n",
    "labeledM.to_csv('raw_labeled_male.tsv', sep='\\t')\n",
    "# use df = pd.read_csv('raw_labeled_male.tsv', sep='\\t') to read the data"
   ]
  },
  {
   "cell_type": "code",
   "execution_count": null,
   "id": "14bb18e0-5735-40c0-a55f-4a344623e524",
   "metadata": {},
   "outputs": [],
   "source": [
    "labeledF = pd.merge(frequencyF, labels['labels'],\n",
    "                  left_on='frame',\n",
    "                  right_index=True)\n",
    "labeledF.to_csv('raw_labeled_female.tsv', sep='\\t')\n",
    "# use labeledF = pd.read_csv('raw_labeled_female.tsv', sep='\\t') to read the data"
   ]
  },
  {
   "cell_type": "markdown",
   "id": "be92f607-d53a-421b-beab-1ae5db3134f1",
   "metadata": {},
   "source": [
    "## Data Structuring"
   ]
  },
  {
   "cell_type": "code",
   "execution_count": null,
   "id": "3d0ede85-be5d-40a5-879d-fcf82b6149e7",
   "metadata": {},
   "outputs": [],
   "source": [
    "labeldM = pd.read_csv('raw_labeled_male.tsv', sep='\\t')\n",
    "labeldF = pd.read_csv('raw_labeled_female.tsv', sep='\\t')"
   ]
  },
  {
   "cell_type": "code",
   "execution_count": null,
   "id": "4290aa52-3fcb-443b-9885-9395f6f6a24e",
   "metadata": {},
   "outputs": [],
   "source": [
    "def get_group_means(df,labels):\n",
    "    means = []\n",
    "    for l in labels:\n",
    "        means.append(df[df['labels'] == l]['firing_rate'].mean())\n",
    "    return means\n",
    "\n",
    "def get_group_sems(df,labels):\n",
    "    sems = []\n",
    "    for l in labels:\n",
    "        sems.append(df[df['labels'] == l]['firing_rate'].sem())\n",
    "    return sems"
   ]
  },
  {
   "cell_type": "code",
   "execution_count": null,
   "id": "fe3827cd-986f-421a-939d-a3c817793314",
   "metadata": {},
   "outputs": [],
   "source": [
    "labeling = ['predator','non_predator','non_animal']\n",
    "\n",
    "male_means = get_group_means(labeledM,labeling)\n",
    "female_means = get_group_means(labeledF,labeling)\n",
    "male_sems = get_group_sems(labeledM,labeling)\n",
    "female_sems = get_group_sems(labeledF,labeling)\n",
    "# print(male_means+female_means)\n",
    "# print(male_sems+female_sems)"
   ]
  },
  {
   "cell_type": "code",
   "execution_count": null,
   "id": "9d7fb699-d277-46d9-ab64-d5d146c80783",
   "metadata": {},
   "outputs": [],
   "source": [
    "# calculate N\n",
    "male_N = [40*62,40*34,40*22]\n",
    "female_N = [11*62,11*22,11*34]"
   ]
  },
  {
   "cell_type": "code",
   "execution_count": null,
   "id": "957bee18-8c1e-4ad9-b0f2-3e7404929b6c",
   "metadata": {},
   "outputs": [],
   "source": [
    "# AIOdf\n",
    "aio_sex = ['Male','Male','Male','Female','Female','Female']\n",
    "aio_labeling = ['Non-Animal Control','Non-Predator','Predator','Non-Animal Control','Non-Predator','Predator']\n",
    "aio_mean = male_means+female_means\n",
    "aio_sem = male_sems+female_sems\n",
    "aio_N = male_N+female_N\n",
    "\n",
    "aio_df = pd.DataFrame({'sex': aio_sex, 'label': aio_labeling, 'mean_frequency': aio_mean, 'sem': aio_sem, 'N':aio_N})\n",
    "aio_df.to_csv('AIO.tsv', sep='\\t')"
   ]
  },
  {
   "cell_type": "code",
   "execution_count": null,
   "id": "e274e4c3-4706-4f56-a643-1dd091da549d",
   "metadata": {},
   "outputs": [],
   "source": [
    "aio_df"
   ]
  }
 ],
 "metadata": {
  "kernelspec": {
   "display_name": "Python 3 (ipykernel)",
   "language": "python",
   "name": "python3"
  },
  "language_info": {
   "codemirror_mode": {
    "name": "ipython",
    "version": 3
   },
   "file_extension": ".py",
   "mimetype": "text/x-python",
   "name": "python",
   "nbconvert_exporter": "python",
   "pygments_lexer": "ipython3",
   "version": "3.9.7"
  }
 },
 "nbformat": 4,
 "nbformat_minor": 5
}
